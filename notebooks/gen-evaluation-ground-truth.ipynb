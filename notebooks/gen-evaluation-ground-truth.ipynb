{
 "cells": [
  {
   "cell_type": "markdown",
   "id": "b89ff090-8802-4f84-8607-f3773b99ab23",
   "metadata": {},
   "source": [
    "# Imports"
   ]
  },
  {
   "cell_type": "code",
   "execution_count": 1,
   "id": "7989d186-527a-4511-a164-bb9adb3af855",
   "metadata": {},
   "outputs": [
    {
     "data": {
      "text/plain": [
       "True"
      ]
     },
     "execution_count": 1,
     "metadata": {},
     "output_type": "execute_result"
    }
   ],
   "source": [
    "import os\n",
    "import pandas as pd\n",
    "import json\n",
    "import chromadb\n",
    "\n",
    "from chromadb.config import Settings\n",
    "\n",
    "from dotenv import load_dotenv\n",
    "from openai import OpenAI\n",
    "from groq import Groq\n",
    "from tqdm import tqdm\n",
    "\n",
    "load_dotenv()"
   ]
  },
  {
   "cell_type": "markdown",
   "id": "f42f9862-a2c2-4125-b2fc-4b9d8099a9c1",
   "metadata": {},
   "source": [
    "# Load Data"
   ]
  },
  {
   "cell_type": "code",
   "execution_count": 2,
   "id": "909bed70-0d9b-4566-b91d-a7449fa4a19b",
   "metadata": {},
   "outputs": [],
   "source": [
    "with open('../data/processed/reviews.json', encoding='utf-8') as f_in:\n",
    "    reviews = json.loads(f_in.read())"
   ]
  },
  {
   "cell_type": "code",
   "execution_count": 3,
   "id": "9e3a2b3f-db4a-4df6-bc75-3c0c9e7858e1",
   "metadata": {},
   "outputs": [
    {
     "data": {
      "text/plain": [
       "{'recommendationid': '172440169',\n",
       " 'language': 'english',\n",
       " 'review': \"terrible anti cheat people are getting false bans for high sensitivity/amd drivers/console commands while real cheaters are not getting banned\\n- no new content for months\\n- no new operation (it's been 3+ years)\\n- tons of competitive/wingman/hostage maps missing from csgo\\n- deleted achievements from csgo with 1 pointless one just make new ones\\n- no danger zone\\n- no team deatmatch\\n- sub tick is garbage all we wanted was 128tick servers\\n- spaghetti net code\\n- no short mm\\n- no flying scoutsman\\n- replays are bugged\\n- no overwatch\\n- performance issues\\n- peekers advantage\\n- bad ranking system\\n- no economy changes despite MR12\\n- movement and shooting is worse compared to csgo\\n\\nAll of this while they make hundreds of millions of dollars from cases/keys and yet are unable to make any fun new content unbelievable, and yet they waste their time with boring hero shooter deadlock that they will abandon within the first few months after the release just like they did to TF2, LFD2, Dota Underlords, CS2 VALVE needs to wake up and start caring for their games\",\n",
       " 'game': 'cs2'}"
      ]
     },
     "execution_count": 3,
     "metadata": {},
     "output_type": "execute_result"
    }
   ],
   "source": [
    "reviews[0]"
   ]
  },
  {
   "cell_type": "markdown",
   "id": "e6a21d08-1775-44d2-90d4-8a76e2d19c17",
   "metadata": {},
   "source": [
    "# Generate Questions"
   ]
  },
  {
   "cell_type": "code",
   "execution_count": 4,
   "id": "8493d4da-9062-4ad9-abee-09267d5e8036",
   "metadata": {},
   "outputs": [],
   "source": [
    "# prompt_template=\"\"\"Based on the game's reviews, I'm creating a project to help video game players decide whether or not to buy a game based on game reviews made by other players. \n",
    "# From the review below, simulate 5 questions that a player can ask based on a provided review. The questions should be specific to this review.\n",
    "\n",
    "# Review:\n",
    "\n",
    "# {review}\n",
    "\n",
    "# Output:\n",
    "\n",
    "# {{\"questions\": [\"question1\", \"question2\", ..., \"question5\"]}}\n",
    "# \"\"\".strip()"
   ]
  },
  {
   "cell_type": "code",
   "execution_count": 5,
   "id": "d5d3a924-a414-449b-9200-b858dfeb324f",
   "metadata": {},
   "outputs": [],
   "source": [
    "prompt_template=\"\"\"You will receive a Review of a game from Steam. Based on the content of this review, your task is to simulate 5 questions that new or potential players may have about the game. \n",
    "Questions should cover different important aspects included in the review, such as technical issues, performance, available content, game modes, developer decisions, among others.\n",
    "\n",
    "** Instructions **\n",
    "    * Always Provide the output in parsable JSON\n",
    "    * Return the output without any code blocks\n",
    "    * Just return the JSON output without writing anything before or after\n",
    "\n",
    "Review:\n",
    "\n",
    "{review}\n",
    "\n",
    "Output:\n",
    "\n",
    "{{\"questions\": [\"question1\", \"question2\", ..., \"question5\"]}}\n",
    "\"\"\".strip()"
   ]
  },
  {
   "cell_type": "code",
   "execution_count": 6,
   "id": "3bf73494-e6f4-467a-a174-d018b3ec6253",
   "metadata": {},
   "outputs": [],
   "source": [
    "def llm(prompt: str) -> str:\n",
    "    client = Groq(\n",
    "            api_key=os.environ.get(\"GROQ_API_KEY\"),\n",
    "        )\n",
    "    \n",
    "    chat_completion = client.chat.completions.create(\n",
    "        messages=[\n",
    "            {\n",
    "                \"role\": \"user\",\n",
    "                \"content\": prompt ,\n",
    "            }\n",
    "        ],\n",
    "        model=\"llama3-8b-8192\",\n",
    "    )\n",
    "    \n",
    "    return chat_completion.choices[0].message.content"
   ]
  },
  {
   "cell_type": "code",
   "execution_count": 7,
   "id": "e994e2da-b1f0-480a-947c-7da73e613fc4",
   "metadata": {},
   "outputs": [],
   "source": [
    "# client = OpenAI()\n",
    "# def llm(prompt: str) -> str:\n",
    "#     response = client.chat.completions.create(\n",
    "#         model='gpt-4o-mini',\n",
    "#         messages=[{\"role\": \"user\", \"content\": prompt}]\n",
    "#     )\n",
    "    \n",
    "#     return response.choices[0].message.content"
   ]
  },
  {
   "cell_type": "code",
   "execution_count": 8,
   "id": "daa8eb0d-f38d-49c4-9671-a35cb219f014",
   "metadata": {},
   "outputs": [],
   "source": [
    "def generate_questions(review: dict[str, str], prompt_template: str) -> list[str]:\n",
    "    prompt = prompt_template.format(**review)\n",
    "\n",
    "    questions = llm(prompt)\n",
    "\n",
    "    return questions\n",
    "    "
   ]
  },
  {
   "cell_type": "code",
   "execution_count": 9,
   "id": "add7ef47-a889-45f3-a015-0d6f2f7d4872",
   "metadata": {},
   "outputs": [
    {
     "data": {
      "text/plain": [
       "{'recommendationid': '172440169',\n",
       " 'language': 'english',\n",
       " 'review': \"terrible anti cheat people are getting false bans for high sensitivity/amd drivers/console commands while real cheaters are not getting banned\\n- no new content for months\\n- no new operation (it's been 3+ years)\\n- tons of competitive/wingman/hostage maps missing from csgo\\n- deleted achievements from csgo with 1 pointless one just make new ones\\n- no danger zone\\n- no team deatmatch\\n- sub tick is garbage all we wanted was 128tick servers\\n- spaghetti net code\\n- no short mm\\n- no flying scoutsman\\n- replays are bugged\\n- no overwatch\\n- performance issues\\n- peekers advantage\\n- bad ranking system\\n- no economy changes despite MR12\\n- movement and shooting is worse compared to csgo\\n\\nAll of this while they make hundreds of millions of dollars from cases/keys and yet are unable to make any fun new content unbelievable, and yet they waste their time with boring hero shooter deadlock that they will abandon within the first few months after the release just like they did to TF2, LFD2, Dota Underlords, CS2 VALVE needs to wake up and start caring for their games\",\n",
       " 'game': 'cs2'}"
      ]
     },
     "execution_count": 9,
     "metadata": {},
     "output_type": "execute_result"
    }
   ],
   "source": [
    "reviews[0]"
   ]
  },
  {
   "cell_type": "code",
   "execution_count": 10,
   "id": "a5cec94c-2e39-44fc-bd23-e78dc8780029",
   "metadata": {},
   "outputs": [
    {
     "data": {
      "text/plain": [
       "'{\"questions\": [\"What are the common issues with the anti-cheat system in the game?\", \"Is there a regular flow of new content and updates to the game?\", \"What are the game modes available in the game, and are there any missing modes?\", \"What are the technical issues with the game, and are there any plans to address them?\", \"Why is there a perception that the game\\'s focus is misguided, with too much emphasis on certain aspects and not enough on others?\"]}'"
      ]
     },
     "execution_count": 10,
     "metadata": {},
     "output_type": "execute_result"
    }
   ],
   "source": [
    "questions = generate_questions(reviews[0], prompt_template)\n",
    "questions"
   ]
  },
  {
   "cell_type": "code",
   "execution_count": 11,
   "id": "77c81568-2a2b-4a3f-a48b-8742b3283e99",
   "metadata": {},
   "outputs": [],
   "source": [
    "questions = json.loads(questions)"
   ]
  },
  {
   "cell_type": "markdown",
   "id": "0c4e5ae3-32b4-4dcb-9e19-8af3682b454a",
   "metadata": {},
   "source": [
    "## Generate all Questions"
   ]
  },
  {
   "cell_type": "code",
   "execution_count": 17,
   "id": "2bb198b6-d2c4-4f83-8080-88d54a32a6a8",
   "metadata": {},
   "outputs": [],
   "source": [
    "results = {}"
   ]
  },
  {
   "cell_type": "code",
   "execution_count": 96,
   "id": "f27e6af5-d6da-4ac8-8c78-8fd8b1818227",
   "metadata": {},
   "outputs": [
    {
     "name": "stderr",
     "output_type": "stream",
     "text": [
      "100%|███████████████████| 300/300 [00:25<00:00, 11.66it/s]\n"
     ]
    }
   ],
   "source": [
    "for review in tqdm(reviews):\n",
    "    review_id = review['recommendationid']\n",
    "    if review_id in results:\n",
    "        continue\n",
    "    q = generate_questions(review, prompt_template)\n",
    "    try:\n",
    "        questions = json.loads(q)\n",
    "    except Exception as error:\n",
    "        print(review_id)\n",
    "        print(q)\n",
    "        raise\n",
    "\n",
    "    results[review_id] = questions['questions']"
   ]
  },
  {
   "cell_type": "markdown",
   "id": "e14d22ab-090a-42ab-b992-c57624a38c18",
   "metadata": {},
   "source": [
    "# Save Questions"
   ]
  },
  {
   "cell_type": "code",
   "execution_count": 97,
   "id": "0e9d1ce8-3656-44cc-9ff7-fb72f7fd3f5b",
   "metadata": {},
   "outputs": [],
   "source": [
    "final_results = []\n",
    "\n",
    "for review_id, questions in results.items():\n",
    "    for q in questions:\n",
    "        final_results.append((review_id, q))"
   ]
  },
  {
   "cell_type": "code",
   "execution_count": 98,
   "id": "fbd6f860-ac08-4203-a9bf-f05b7ff8857a",
   "metadata": {
    "scrolled": true
   },
   "outputs": [],
   "source": [
    "df_results = pd.DataFrame(final_results, columns=['id', 'question'])"
   ]
  },
  {
   "cell_type": "code",
   "execution_count": 56,
   "id": "3bcc856c-fcb2-42b4-bc94-28063761aaee",
   "metadata": {},
   "outputs": [
    {
     "data": {
      "text/html": [
       "<div>\n",
       "<style scoped>\n",
       "    .dataframe tbody tr th:only-of-type {\n",
       "        vertical-align: middle;\n",
       "    }\n",
       "\n",
       "    .dataframe tbody tr th {\n",
       "        vertical-align: top;\n",
       "    }\n",
       "\n",
       "    .dataframe thead th {\n",
       "        text-align: right;\n",
       "    }\n",
       "</style>\n",
       "<table border=\"1\" class=\"dataframe\">\n",
       "  <thead>\n",
       "    <tr style=\"text-align: right;\">\n",
       "      <th></th>\n",
       "      <th>id</th>\n",
       "      <th>question</th>\n",
       "      <th>recommendationid</th>\n",
       "      <th>game</th>\n",
       "    </tr>\n",
       "  </thead>\n",
       "  <tbody>\n",
       "    <tr>\n",
       "      <th>0</th>\n",
       "      <td>172440169</td>\n",
       "      <td>What are the chances of getting a false ban in...</td>\n",
       "      <td>172440169</td>\n",
       "      <td>cs2</td>\n",
       "    </tr>\n",
       "    <tr>\n",
       "      <th>1</th>\n",
       "      <td>172440169</td>\n",
       "      <td>Is the game getting regular updates with new c...</td>\n",
       "      <td>172440169</td>\n",
       "      <td>cs2</td>\n",
       "    </tr>\n",
       "    <tr>\n",
       "      <th>2</th>\n",
       "      <td>172440169</td>\n",
       "      <td>Are all game modes available, including compet...</td>\n",
       "      <td>172440169</td>\n",
       "      <td>cs2</td>\n",
       "    </tr>\n",
       "    <tr>\n",
       "      <th>3</th>\n",
       "      <td>172440169</td>\n",
       "      <td>How does the game's net code and server perfor...</td>\n",
       "      <td>172440169</td>\n",
       "      <td>cs2</td>\n",
       "    </tr>\n",
       "    <tr>\n",
       "      <th>4</th>\n",
       "      <td>172440169</td>\n",
       "      <td>Is there a ranking system in the game that tak...</td>\n",
       "      <td>172440169</td>\n",
       "      <td>cs2</td>\n",
       "    </tr>\n",
       "  </tbody>\n",
       "</table>\n",
       "</div>"
      ],
      "text/plain": [
       "          id                                           question  \\\n",
       "0  172440169  What are the chances of getting a false ban in...   \n",
       "1  172440169  Is the game getting regular updates with new c...   \n",
       "2  172440169  Are all game modes available, including compet...   \n",
       "3  172440169  How does the game's net code and server perfor...   \n",
       "4  172440169  Is there a ranking system in the game that tak...   \n",
       "\n",
       "  recommendationid game  \n",
       "0        172440169  cs2  \n",
       "1        172440169  cs2  \n",
       "2        172440169  cs2  \n",
       "3        172440169  cs2  \n",
       "4        172440169  cs2  "
      ]
     },
     "execution_count": 56,
     "metadata": {},
     "output_type": "execute_result"
    }
   ],
   "source": [
    "df_reviews = pd.DataFrame(reviews)\n",
    "df_results.id = df_results.id.astype(str)\n",
    "df_reviews.recommendationid = df_reviews.recommendationid.astype(str)\n",
    "df_results = pd.merge(df_results, df_reviews[['recommendationid', 'game']], left_on='id', right_on=['recommendationid'])\n",
    "df_results.drop(['recommendationid'], axis=1)\n",
    "df_results.head()"
   ]
  },
  {
   "cell_type": "code",
   "execution_count": 57,
   "id": "fdd2b62b-9442-457b-a28a-fd4a140f2315",
   "metadata": {},
   "outputs": [],
   "source": [
    "df_results.to_csv('../data/processed/ground-truth-retrieval.csv', index=False)"
   ]
  },
  {
   "cell_type": "markdown",
   "id": "288a24ac-1c8d-495d-87be-852492990087",
   "metadata": {},
   "source": [
    "# ChromaDB"
   ]
  },
  {
   "cell_type": "code",
   "execution_count": 12,
   "id": "6ac38c67-35ef-4905-a6fa-17ee8f347663",
   "metadata": {},
   "outputs": [],
   "source": [
    "settings = Settings(persist_directory='../chroma', is_persistent=True)\n",
    "client = chromadb.Client(settings)\n",
    "\n",
    "# Create collection. get_collection, get_or_create_collection, delete_collection also available!\n",
    "collection = client.get_or_create_collection(\"reviews\")\n",
    "\n"
   ]
  },
  {
   "cell_type": "code",
   "execution_count": 13,
   "id": "66898cc9-e285-4870-af57-8a5051466acd",
   "metadata": {},
   "outputs": [
    {
     "data": {
      "text/plain": [
       "300"
      ]
     },
     "execution_count": 13,
     "metadata": {},
     "output_type": "execute_result"
    }
   ],
   "source": [
    "collection.count()"
   ]
  },
  {
   "cell_type": "markdown",
   "id": "f90a4774-f615-4f97-9a9b-afccbd30459c",
   "metadata": {},
   "source": [
    "# Evaluate RAG"
   ]
  },
  {
   "cell_type": "markdown",
   "id": "ba3a944c-a6ec-4026-81f5-322e33c73a31",
   "metadata": {},
   "source": [
    "## Text Search"
   ]
  },
  {
   "cell_type": "code",
   "execution_count": 59,
   "id": "8cd718b6-e03d-4c3c-97ad-bddba4b0b724",
   "metadata": {},
   "outputs": [],
   "source": [
    "df_results = pd.read_csv('../data/processed/ground-truth-retrieval.csv')"
   ]
  },
  {
   "cell_type": "code",
   "execution_count": 60,
   "id": "3a8642c1-f2d3-4d1f-822d-851151d4a91b",
   "metadata": {},
   "outputs": [
    {
     "data": {
      "text/plain": [
       "{'id': 172440169,\n",
       " 'question': 'What are the chances of getting a false ban in this game?',\n",
       " 'recommendationid': 172440169,\n",
       " 'game': 'cs2'}"
      ]
     },
     "execution_count": 60,
     "metadata": {},
     "output_type": "execute_result"
    }
   ],
   "source": [
    "ground_truth = df_results.to_dict(orient='records')\n",
    "ground_truth[0]"
   ]
  },
  {
   "cell_type": "code",
   "execution_count": 64,
   "id": "809e6c16-0a98-46c4-a1ed-9f9406360dc4",
   "metadata": {},
   "outputs": [],
   "source": [
    "def search(query:str, game:str = None) -> list[str]:\n",
    "    results = collection.query(\n",
    "    query_texts=[query],\n",
    "    n_results=10,\n",
    "    where={\"game\": game}\n",
    ")\n",
    "    return results"
   ]
  },
  {
   "cell_type": "code",
   "execution_count": 65,
   "id": "19e6ce6b-2fd5-4e90-ad56-b80d0266cca6",
   "metadata": {},
   "outputs": [],
   "source": [
    "results = search(ground_truth[0]['question'], ground_truth[0]['game'])"
   ]
  },
  {
   "cell_type": "code",
   "execution_count": 66,
   "id": "b4409285-e5c0-49ec-a488-5b971e7e758e",
   "metadata": {
    "scrolled": true
   },
   "outputs": [
    {
     "data": {
      "text/plain": [
       "{'ids': [['173478408',\n",
       "   '171783807',\n",
       "   '174023371',\n",
       "   '172336119',\n",
       "   '172336456',\n",
       "   '172318115',\n",
       "   '174045052',\n",
       "   '171354474',\n",
       "   '172440169',\n",
       "   '174019744']],\n",
       " 'distances': [[0.541038990020752,\n",
       "   0.5709561109542847,\n",
       "   0.5890097618103027,\n",
       "   0.601252555847168,\n",
       "   0.604134202003479,\n",
       "   0.6054655313491821,\n",
       "   0.6419882774353027,\n",
       "   0.6502718925476074,\n",
       "   0.6533358097076416,\n",
       "   0.6576564311981201]],\n",
       " 'metadatas': [[{'game': 'cs2', 'language': 'english'},\n",
       "   {'game': 'cs2', 'language': 'english'},\n",
       "   {'game': 'cs2', 'language': 'english'},\n",
       "   {'game': 'cs2', 'language': 'english'},\n",
       "   {'game': 'cs2', 'language': 'english'},\n",
       "   {'game': 'cs2', 'language': 'english'},\n",
       "   {'game': 'cs2', 'language': 'english'},\n",
       "   {'game': 'cs2', 'language': 'english'},\n",
       "   {'game': 'cs2', 'language': 'english'},\n",
       "   {'game': 'cs2', 'language': 'english'}]],\n",
       " 'embeddings': None,\n",
       " 'documents': [['floded with cheaters i played wingman w/ my homie ( he was cheating only after they did) and we got banned and met them 2 games in a row + valve doing nothing bout it and they are still spinning in matches while we are banned and my ranks will prob get reseted GR8 JOB VALVE F-ING PROUD OF YDOU',\n",
       "   \"How bad can this game get, 25 years and I cannot even play a premier game without cheaters, how tf is this even allowed, valve you are a terrible company, get an anti cheat it's not hard you money chasing dogs\",\n",
       "   \"At the moment, this game is a complete dumpster fire.\\n\\n- No real anti-cheat (which has been literally the most requested fix since the beginning of CS:GO [2012 btw!]). Because of this, not only are cheaters not getting banned, but completely innocent people are instead. Not to mention the fact that the higher levels of Premier are more or less just cheaters in some fashion. This is genuinely one of the most egregious wrongdoings in all of multiplayer gaming for this being such a popular franchise, and Valve gets away with it because of the legacy of CS.\\n- Higher fidelity graphics, which comes as a double-edged sword because a large portion of the community played GO because of it's non-taxing graphics, making it easy to run, and now that community has been completely left out to dry\\n- Barely any new content, just bug fixes and that's pretty much it. Remember the game is no longer in beta!\\n- The ranking system in this game is so incredibly bad that third parties have to use their own system, and that system is considered to be more reliable and well respected than the official one. Think of another game that has to do all of this. I can't. Not to mention the fact that these third parties have a more reliable anti-cheat than the game itself.\\n- As minor as this may be, there are no longer any achievements except one, and that's for launching the game...\\n- When CS2 was announced, one of the biggest points of excitement was for 128 tick servers. Plenty of other games have this (VAL being the primary example because of it's similarities to CS), and the decision to use sub-tick was such a cop out, sleazy was of fixing the problem, and no one actually thinks sub-tick is a better solution than 128 tick. There is so much money being poured into this game, you cannot say that Valve does not have the means to maintain servers that would provide an objectively better experience for the end user.\\n\\nThis game is fun extremely casually, but don't bother putting an extended amount of time into it, because clearly Valve would rather not put time into it either.\",\n",
       "   'infested with cheaters, 80% of players from premier/competitive are cheaters or spinbotters',\n",
       "   'Around 60% of my games has cheaters, and recently there have been a few of them that say that we were cheating, and when we checked the demo, they were blatantly walling and aimlocking on us through the wall from round 1. 10/10 actual braindead cheaters who has no life and i hope that they kill themselves one day knowing that nobody ever thinks that they were good at the game.',\n",
       "   'too much cheaters too much scammers and non valve or steam does somthing with it or even not returning to players mail about scammers that trying to hijack accounts! \\r\\ncould be a wayyy better game',\n",
       "   'The new Vac Anti-Cheat is nothing but a Joke ! its just a updated graphics with even more worse anti cheat system than CSGO! its heartbreaking because Counter Strike have been My first love since CS 1.6 era...Seeing it fall to such levels where game is literally unplayable In official match making matches ! Apart from that new premier feature is cool,new weapon load out is cool, skins becomes great, smoke is awesome so is molotovs, agents pretty much good .... Its a global Gem please Gaben/Steam fix cheaters issue! one advice [ Free to play tactics is bulls its very easy to make new account after vac ban! (try system ban ) if u really want to make it FREE FOR ALL ! MOREOVER disclosing your Anti cheat mechanics is stupidity Keep it to yourself Hide it in encrypted Codes ! cuz the more u disclose Your smart Ass in how good of your anti cheat system is Hackers will eventually Find a crack of it way easier as compared to Hidden Tech ! Fun fact( they have cracked AI anti cheat system with AI cheating mechanics which Fools your system same as how your Algorithm finds or identifies A cheater in first place ) ..... \\r\\n\\r\\nYours truly A crack head CS2 fan who knows that this review would be thrown in bin just like other valuable comments & Dota 2 would be your Apple of the eye !',\n",
       "   'If you are o-so-lucky to play in SEA, do not play this game. Braindead SEA players cheating even in Casual play. You can\\'t even play for weekly drops at this point.\\n\\nSubtick implementation is favorable to the peeker. If you have low ping, just peek everytime and you will win most gunfights. If you have high ping, you will die without even seeing a shoulder. Playing against 2-ping players will f*ck your mental health. They need to remove subtick as it is leaning towards favoring good playing conditions (i.e. low ping, good PC)\\n\\nLet\\'s talk about the cheaters again. The people who downplay the cheating in this game are either lucky sons of bitches that are in a good region (You are not helping anybody with your anecdotes) and the cheaters themselves. You can see the overwhelming amount of videos posted about cheating. If you are someone that say \"Play faceit, bro\", f*ck you too. Not everybody wants a kernel-level anticheat just running in the background. Freaking idiots that downplay the severity of this issue, f*ck you from the bottom of my heart.',\n",
       "   \"terrible anti cheat people are getting false bans for high sensitivity/amd drivers/console commands while real cheaters are not getting banned\\n- no new content for months\\n- no new operation (it's been 3+ years)\\n- tons of competitive/wingman/hostage maps missing from csgo\\n- deleted achievements from csgo with 1 pointless one just make new ones\\n- no danger zone\\n- no team deatmatch\\n- sub tick is garbage all we wanted was 128tick servers\\n- spaghetti net code\\n- no short mm\\n- no flying scoutsman\\n- replays are bugged\\n- no overwatch\\n- performance issues\\n- peekers advantage\\n- bad ranking system\\n- no economy changes despite MR12\\n- movement and shooting is worse compared to csgo\\n\\nAll of this while they make hundreds of millions of dollars from cases/keys and yet are unable to make any fun new content unbelievable, and yet they waste their time with boring hero shooter deadlock that they will abandon within the first few months after the release just like they did to TF2, LFD2, Dota Underlords, CS2 VALVE needs to wake up and start caring for their games\",\n",
       "   'Ran into a cheater in competitive being blatant. After a few rounds a random dude on my team activated his own cheats and we all got to witness and cheater vs cheater battle for 14 rounds. It was like watching an episode of Transformers. The Autobots vs Decepticons. Autobots won.\\r\\n10/10. Would recommend.']],\n",
       " 'uris': None,\n",
       " 'data': None,\n",
       " 'included': ['metadatas', 'documents', 'distances']}"
      ]
     },
     "execution_count": 66,
     "metadata": {},
     "output_type": "execute_result"
    }
   ],
   "source": [
    "results"
   ]
  },
  {
   "cell_type": "code",
   "execution_count": 18,
   "id": "a627622a-b966-4e2b-b96b-b77bde251555",
   "metadata": {},
   "outputs": [],
   "source": [
    "def hit_rate(relevance_total):\n",
    "    cnt = 0\n",
    "\n",
    "    for line in relevance_total:\n",
    "        if True in line:\n",
    "            cnt = cnt + 1\n",
    "\n",
    "    return cnt / len(relevance_total)"
   ]
  },
  {
   "cell_type": "code",
   "execution_count": 19,
   "id": "c18ba95f-230f-440f-894d-d50071b8394b",
   "metadata": {},
   "outputs": [],
   "source": [
    "def mrr(relevance_total):\n",
    "    total_score = 0.0\n",
    "\n",
    "    for line in relevance_total:\n",
    "        for rank in range(len(line)):\n",
    "            if line[rank] == True:\n",
    "                total_score = total_score + 1 / (rank + 1)\n",
    "\n",
    "    return total_score / len(relevance_total)"
   ]
  },
  {
   "cell_type": "code",
   "execution_count": 67,
   "id": "cfb99dee-3879-42a6-b965-19af68a0b8f7",
   "metadata": {},
   "outputs": [
    {
     "name": "stderr",
     "output_type": "stream",
     "text": [
      "100%|█████████████████| 1500/1500 [01:17<00:00, 19.33it/s]\n"
     ]
    }
   ],
   "source": [
    "relevance_total = []\n",
    "\n",
    "for q in tqdm(ground_truth):\n",
    "    doc_id = q['id']\n",
    "    results = search(q['question'], game=q['game'])\n",
    "    print\n",
    "    relevance = [d == str(doc_id) for d in results['ids'][0]]\n",
    "    relevance_total.append(relevance)"
   ]
  },
  {
   "cell_type": "code",
   "execution_count": 68,
   "id": "6381b795-e621-4396-b0a2-9dfb426cf2e9",
   "metadata": {},
   "outputs": [
    {
     "data": {
      "text/plain": [
       "(0.46, 0.2490748677248676)"
      ]
     },
     "execution_count": 68,
     "metadata": {},
     "output_type": "execute_result"
    }
   ],
   "source": [
    "hit_rate(relevance_total), mrr(relevance_total)"
   ]
  },
  {
   "cell_type": "markdown",
   "id": "2aba440a-8178-431a-9ae6-1e75cd3ae641",
   "metadata": {},
   "source": [
    "## Embeddings"
   ]
  },
  {
   "cell_type": "code",
   "execution_count": 69,
   "id": "0261aca4-562c-4219-8f2e-23d72a1c0026",
   "metadata": {},
   "outputs": [],
   "source": [
    "from langchain.embeddings import HuggingFaceEmbeddings\n",
    "from langchain_chroma import Chroma\n",
    "from langchain.text_splitter import RecursiveCharacterTextSplitter"
   ]
  },
  {
   "cell_type": "code",
   "execution_count": 70,
   "id": "0777f370-335b-46ac-bad2-1dea1aa337c8",
   "metadata": {},
   "outputs": [
    {
     "name": "stderr",
     "output_type": "stream",
     "text": [
      "/Users/marcospaulopaivapereira/Documents/Projetos/llm_final_project/.venv/lib/python3.11/site-packages/transformers/tokenization_utils_base.py:1601: FutureWarning: `clean_up_tokenization_spaces` was not set. It will be set to `True` by default. This behavior will be depracted in transformers v4.45, and will be then set to `False` by default. For more details check this issue: https://github.com/huggingface/transformers/issues/31884\n",
      "  warnings.warn(\n"
     ]
    }
   ],
   "source": [
    "embeddings = HuggingFaceEmbeddings(model_name='all-MiniLM-L6-v2')"
   ]
  },
  {
   "cell_type": "code",
   "execution_count": 71,
   "id": "761d7c12-a208-4835-be3a-7838b0169604",
   "metadata": {},
   "outputs": [],
   "source": [
    "chroma = Chroma(collection_name='reviews_embeddings',embedding_function=embeddings)\n",
    "chroma.reset_collection()"
   ]
  },
  {
   "cell_type": "code",
   "execution_count": 72,
   "id": "850e4196-17df-4451-a197-74a3aef9a539",
   "metadata": {},
   "outputs": [],
   "source": [
    "def chunk_text(text: str, chunk_size: int=256) -> list[str]:\n",
    "    \"\"\"Split text into chunks of a specified size.\"\"\"\n",
    "    text_splitter = RecursiveCharacterTextSplitter(chunk_size=chunk_size, chunk_overlap=50)\n",
    "    \n",
    "    return text_splitter.split_text(text)\n",
    "\n",
    "def embed_and_store_reviews(reviews):\n",
    "    \"\"\"Generate embeddings and store them in ChromaDB with metadata.\"\"\"\n",
    "    for review_data in reviews:\n",
    "        review = review_data['review']\n",
    "        chunks = chunk_text(review)\n",
    "    \n",
    "        metadatas = []\n",
    "        for chunck in chunks:\n",
    "            metadatas.append( {\n",
    "            'recommendationid': review_data['recommendationid'],\n",
    "            'language': review_data['language'],\n",
    "            'game': review_data['game']\n",
    "        })\n",
    "   \n",
    "    \n",
    "        # Store embedding in ChromaDB with metadata\n",
    "        chroma.add_texts(texts=chunks, metadatas=metadatas)\n",
    "        "
   ]
  },
  {
   "cell_type": "code",
   "execution_count": 73,
   "id": "9b9acff5-4935-4b3b-abd9-6ba4567baede",
   "metadata": {
    "scrolled": true
   },
   "outputs": [],
   "source": [
    "embed_and_store_reviews(reviews)"
   ]
  },
  {
   "cell_type": "code",
   "execution_count": 74,
   "id": "7e971b8c-01ec-4429-b046-7660c0e8b554",
   "metadata": {},
   "outputs": [
    {
     "data": {
      "text/plain": [
       "{'id': 172440169,\n",
       " 'question': 'What are the chances of getting a false ban in this game?',\n",
       " 'recommendationid': 172440169,\n",
       " 'game': 'cs2'}"
      ]
     },
     "execution_count": 74,
     "metadata": {},
     "output_type": "execute_result"
    }
   ],
   "source": [
    "ground_truth[0]"
   ]
  },
  {
   "cell_type": "code",
   "execution_count": 75,
   "id": "3b5505f9-19d3-4c3a-a76f-570846da7b14",
   "metadata": {},
   "outputs": [],
   "source": [
    "results = chroma.similarity_search(ground_truth[0]['question'], k=10, filter={'game':ground_truth[0]['game']})"
   ]
  },
  {
   "cell_type": "code",
   "execution_count": 76,
   "id": "b3622fab-15aa-4c70-abb9-d6e45ccfc5f5",
   "metadata": {},
   "outputs": [
    {
     "data": {
      "text/plain": [
       "[Document(metadata={'game': 'cs2', 'language': 'english', 'recommendationid': '174023371'}, page_content='- No real anti-cheat (which has been literally the most requested fix since the beginning of CS:GO [2012 btw!]). Because of this, not only are cheaters not getting banned, but completely innocent people are instead. Not to mention the fact that the higher'),\n",
       " Document(metadata={'game': 'cs2', 'language': 'english', 'recommendationid': '173478408'}, page_content='floded with cheaters i played wingman w/ my homie ( he was cheating only after they did) and we got banned and met them 2 games in a row + valve doing nothing bout it and they are still spinning in matches while we are banned and my ranks will prob get'),\n",
       " Document(metadata={'game': 'cs2', 'language': 'english', 'recommendationid': '172440169'}, page_content=\"terrible anti cheat people are getting false bans for high sensitivity/amd drivers/console commands while real cheaters are not getting banned\\n- no new content for months\\n- no new operation (it's been 3+ years)\"),\n",
       " Document(metadata={'game': 'cs2', 'language': 'english', 'recommendationid': '174059061'}, page_content='too much cheaters and toxic players. they will find ways to make you either get banned. say abusing the greiving report or intentionally cross your fire while you engage enemy. even in premier matches there are cheaters! VAC doesnt seem to work well for'),\n",
       " Document(metadata={'game': 'cs2', 'language': 'english', 'recommendationid': '171783807'}, page_content=\"How bad can this game get, 25 years and I cannot even play a premier game without cheaters, how tf is this even allowed, valve you are a terrible company, get an anti cheat it's not hard you money chasing dogs\"),\n",
       " Document(metadata={'game': 'cs2', 'language': 'english', 'recommendationid': '171362623'}, page_content=\"response on the reports. Also they don't develop anticheats. There is one dumb anticheat called VAC. But, it doesn't even detect a rage cheaters. This VAC is just disables normal players falsely by it can't validate the game file. That's all. Even if you\"),\n",
       " Document(metadata={'game': 'cs2', 'language': 'english', 'recommendationid': '172336456'}, page_content='Around 60% of my games has cheaters, and recently there have been a few of them that say that we were cheating, and when we checked the demo, they were blatantly walling and aimlocking on us through the wall from round 1. 10/10 actual braindead cheaters'),\n",
       " Document(metadata={'game': 'cs2', 'language': 'english', 'recommendationid': '174045052'}, page_content='system ban ) if u really want to make it FREE FOR ALL ! MOREOVER disclosing your Anti cheat mechanics is stupidity Keep it to yourself Hide it in encrypted Codes ! cuz the more u disclose Your smart Ass in how good of your anti cheat system is Hackers'),\n",
       " Document(metadata={'game': 'cs2', 'language': 'english', 'recommendationid': '172336119'}, page_content='infested with cheaters, 80% of players from premier/competitive are cheaters or spinbotters'),\n",
       " Document(metadata={'game': 'cs2', 'language': 'english', 'recommendationid': '172318115'}, page_content='too much cheaters too much scammers and non valve or steam does somthing with it or even not returning to players mail about scammers that trying to hijack accounts! \\r\\ncould be a wayyy better game')]"
      ]
     },
     "execution_count": 76,
     "metadata": {},
     "output_type": "execute_result"
    }
   ],
   "source": [
    "results"
   ]
  },
  {
   "cell_type": "code",
   "execution_count": 77,
   "id": "8d567a73-2485-4bef-bde0-f0e3b06a56c6",
   "metadata": {},
   "outputs": [
    {
     "data": {
      "text/plain": [
       "'174023371'"
      ]
     },
     "metadata": {},
     "output_type": "display_data"
    },
    {
     "data": {
      "text/plain": [
       "'173478408'"
      ]
     },
     "metadata": {},
     "output_type": "display_data"
    },
    {
     "data": {
      "text/plain": [
       "'172440169'"
      ]
     },
     "metadata": {},
     "output_type": "display_data"
    },
    {
     "data": {
      "text/plain": [
       "'174059061'"
      ]
     },
     "metadata": {},
     "output_type": "display_data"
    },
    {
     "data": {
      "text/plain": [
       "'171783807'"
      ]
     },
     "metadata": {},
     "output_type": "display_data"
    },
    {
     "data": {
      "text/plain": [
       "'171362623'"
      ]
     },
     "metadata": {},
     "output_type": "display_data"
    },
    {
     "data": {
      "text/plain": [
       "'172336456'"
      ]
     },
     "metadata": {},
     "output_type": "display_data"
    },
    {
     "data": {
      "text/plain": [
       "'174045052'"
      ]
     },
     "metadata": {},
     "output_type": "display_data"
    },
    {
     "data": {
      "text/plain": [
       "'172336119'"
      ]
     },
     "metadata": {},
     "output_type": "display_data"
    },
    {
     "data": {
      "text/plain": [
       "'172318115'"
      ]
     },
     "metadata": {},
     "output_type": "display_data"
    }
   ],
   "source": [
    "for d in results:\n",
    "   display(d.metadata['recommendationid'])"
   ]
  },
  {
   "cell_type": "code",
   "execution_count": 78,
   "id": "c62f259c-47de-4d0a-996f-0b61a44e0845",
   "metadata": {},
   "outputs": [
    {
     "name": "stderr",
     "output_type": "stream",
     "text": [
      "100%|█████████████████| 1500/1500 [00:24<00:00, 61.85it/s]\n"
     ]
    }
   ],
   "source": [
    "relevance_total = []\n",
    "\n",
    "for q in tqdm(ground_truth):\n",
    "    doc_id = q['id']\n",
    "    results = chroma.similarity_search(q['question'], filter={'game':q['game']},k=10)\n",
    "    relevance = [d.metadata['recommendationid'] == str(doc_id) for d in results]\n",
    "    relevance_total.append(relevance)"
   ]
  },
  {
   "cell_type": "code",
   "execution_count": 79,
   "id": "81a828fe-a185-48c1-b34d-d6369d5af967",
   "metadata": {},
   "outputs": [
    {
     "data": {
      "text/plain": [
       "(0.4573333333333333, 0.2842103174603172)"
      ]
     },
     "execution_count": 79,
     "metadata": {},
     "output_type": "execute_result"
    }
   ],
   "source": [
    "hit_rate(relevance_total), mrr(relevance_total)"
   ]
  },
  {
   "cell_type": "code",
   "execution_count": 189,
   "id": "2bc07032-a478-4b16-b376-e0480da543b6",
   "metadata": {},
   "outputs": [],
   "source": [
    "from langchain.vectorstores import Chroma\n",
    "from langchain.embeddings import HuggingFaceEmbeddings\n",
    "from langchain.text_splitter import RecursiveCharacterTextSplitter\n",
    "from langchain.schema import Document\n",
    "\n",
    "class LangChainChromaRAG:\n",
    "    def __init__(self, collection_name, embedding_model_name=\"sentence-transformers/all-MiniLM-L6-v2\", persist_directory=\"./chroma_db_new\"):\n",
    "        self.collection_name = collection_name\n",
    "        self.persist_directory = persist_directory\n",
    "        \n",
    "        self.embeddings = HuggingFaceEmbeddings(model_name=embedding_model_name)\n",
    "        \n",
    "        self.vectorstore = Chroma(\n",
    "            collection_name=collection_name,\n",
    "            embedding_function=self.embeddings,\n",
    "            persist_directory=persist_directory\n",
    "        )\n",
    "        \n",
    "        self.text_splitter = RecursiveCharacterTextSplitter(\n",
    "            chunk_size=256,\n",
    "            chunk_overlap=50,\n",
    "            length_function=len\n",
    "        )\n",
    "\n",
    "    def add_game_reviews(self, reviews):\n",
    "        new_reviews = []\n",
    "        for review in reviews:\n",
    "            if not self._review_exists(review['recommendationid']):\n",
    "                new_reviews.append(review)\n",
    "            else:\n",
    "                print(f\"Review with ID {review['recommendationid']} already exists. Skipping.\")\n",
    "\n",
    "        for review in new_reviews:\n",
    "            chunks = self.text_splitter.split_text(review['review'])\n",
    "            metadatas = [{\n",
    "                'recommendationid': review['recommendationid'],\n",
    "                'language': review['language'],\n",
    "                'game': review['game'],\n",
    "                'chunk_index': i  # Add chunk index to metadata\n",
    "            } for i in range(len(chunks))]\n",
    "            \n",
    "            self.vectorstore.add_texts(texts=chunks, metadatas=metadatas)\n",
    "\n",
    "    def _review_exists(self, recommendationid):\n",
    "        # Check if any document exists with the given recommendationid\n",
    "        results = self.vectorstore.similarity_search(\n",
    "            \"dummy query\",  # The query doesn't matter here\n",
    "            k=1,\n",
    "            filter={\"recommendationid\": recommendationid}\n",
    "        )\n",
    "        return len(results) > 0\n",
    "\n",
    "    def search(self, query, n_results=5, filter=None):\n",
    "        return self.vectorstore.similarity_search(query, k=n_results, filter=filter)\n",
    "\n",
    "    def get_review(self, recommendationid):\n",
    "        chunks = self.vectorstore.similarity_search(\n",
    "            \"dummy query\",  # The query doesn't matter here\n",
    "            k=100,  # Set a high number to retrieve all chunks\n",
    "            filter={\"recommendationid\": recommendationid}\n",
    "        )\n",
    "        # Sort chunks by chunk_index and concatenate\n",
    "        sorted_chunks = sorted(chunks, key=lambda x: x.metadata['chunk_index'])\n",
    "        full_review = \" \".join(chunk.page_content for chunk in sorted_chunks)\n",
    "        return full_review\n",
    "\n",
    "    def update_review(self, review):\n",
    "        # First, remove the existing review\n",
    "        self.delete_review(review['recommendationid'])\n",
    "        # Then add the updated review\n",
    "        self.add_game_reviews([review])\n",
    "\n",
    "    def delete_review(self, recommendationid:str):\n",
    "        # Get the underlying Chroma collection\n",
    "        collection = self.vectorstore._collection\n",
    "        \n",
    "        # Query for documents with the given recommendationid\n",
    "        results = collection.get(\n",
    "            where={\"recommendationid\": recommendationid},\n",
    "            include=[\"metadatas\"]\n",
    "        )\n",
    "        \n",
    "        # Extract the ids from the metadatas\n",
    "        ids_to_delete = [id for id in results['ids'] if id]\n",
    "        \n",
    "        # Delete the documents by their ids\n",
    "        if ids_to_delete:\n",
    "            collection.delete(ids=ids_to_delete)\n",
    "        else:\n",
    "            print(f\"No documents found with recommendationid: {recommendationid}\")\n"
   ]
  },
  {
   "cell_type": "code",
   "execution_count": 186,
   "id": "3a5dd69b-7ae4-4a5c-8be1-02fd4f5f003b",
   "metadata": {},
   "outputs": [],
   "source": [
    "rag = LangChainChromaRAG(\"game_reviews\")"
   ]
  },
  {
   "cell_type": "code",
   "execution_count": null,
   "id": "6ca0a42b-db12-4096-a393-f30ef1059a17",
   "metadata": {},
   "outputs": [],
   "source": [
    "rag.add_game_reviews(reviews)"
   ]
  },
  {
   "cell_type": "code",
   "execution_count": 177,
   "id": "cf526478-37cc-4cce-ac3f-f02405a5ea13",
   "metadata": {},
   "outputs": [
    {
     "data": {
      "text/plain": [
       "{'id': 172440169,\n",
       " 'question': 'What are the chances of getting a false ban in this game?',\n",
       " 'recommendationid': 172440169,\n",
       " 'game': 'cs2'}"
      ]
     },
     "execution_count": 177,
     "metadata": {},
     "output_type": "execute_result"
    }
   ],
   "source": [
    "ground_truth[0]"
   ]
  },
  {
   "cell_type": "code",
   "execution_count": 178,
   "id": "4cd29338-054d-40ff-bf1a-e0e5f83cd095",
   "metadata": {},
   "outputs": [
    {
     "data": {
      "text/plain": [
       "[Document(metadata={'game': 'cs2', 'language': 'english', 'recommendationid': '174023371'}, page_content='- No real anti-cheat (which has been literally the most requested fix since the beginning of CS:GO [2012 btw!]). Because of this, not only are cheaters not getting banned, but completely innocent people are instead. Not to mention the fact that the higher'),\n",
       " Document(metadata={'game': 'cs2', 'language': 'english', 'recommendationid': '173478408'}, page_content='floded with cheaters i played wingman w/ my homie ( he was cheating only after they did) and we got banned and met them 2 games in a row + valve doing nothing bout it and they are still spinning in matches while we are banned and my ranks will prob get'),\n",
       " Document(metadata={'chunk_index': 0, 'game': 'cs2', 'language': 'english', 'recommendationid': '172440169'}, page_content=\"terrible anti cheat people are getting false bans for high sensitivity/amd drivers/console commands while real cheaters are not getting banned\\n- no new content for months\\n- no new operation (it's been 3+ years)\"),\n",
       " Document(metadata={'game': 'cs2', 'language': 'english', 'recommendationid': '174059061'}, page_content='too much cheaters and toxic players. they will find ways to make you either get banned. say abusing the greiving report or intentionally cross your fire while you engage enemy. even in premier matches there are cheaters! VAC doesnt seem to work well for'),\n",
       " Document(metadata={'game': 'cs2', 'language': 'english', 'recommendationid': '171783807'}, page_content=\"How bad can this game get, 25 years and I cannot even play a premier game without cheaters, how tf is this even allowed, valve you are a terrible company, get an anti cheat it's not hard you money chasing dogs\")]"
      ]
     },
     "execution_count": 178,
     "metadata": {},
     "output_type": "execute_result"
    }
   ],
   "source": [
    "rag.search(ground_truth[0]['question'], filter={'game': ground_truth[0]['game']})"
   ]
  },
  {
   "cell_type": "code",
   "execution_count": 94,
   "id": "56e47893-6833-4f12-b603-0d1046f528cb",
   "metadata": {},
   "outputs": [
    {
     "data": {
      "text/plain": [
       "[Document(metadata={'game': 'cs2', 'language': 'english', 'recommendationid': '174023371'}, page_content='- No real anti-cheat (which has been literally the most requested fix since the beginning of CS:GO [2012 btw!]). Because of this, not only are cheaters not getting banned, but completely innocent people are instead. Not to mention the fact that the higher'),\n",
       " Document(metadata={'game': 'cs2', 'language': 'english', 'recommendationid': '173478408'}, page_content='floded with cheaters i played wingman w/ my homie ( he was cheating only after they did) and we got banned and met them 2 games in a row + valve doing nothing bout it and they are still spinning in matches while we are banned and my ranks will prob get'),\n",
       " Document(metadata={'game': 'cs2', 'language': 'english', 'recommendationid': '172440169'}, page_content=\"terrible anti cheat people are getting false bans for high sensitivity/amd drivers/console commands while real cheaters are not getting banned\\n- no new content for months\\n- no new operation (it's been 3+ years)\"),\n",
       " Document(metadata={'game': 'cs2', 'language': 'english', 'recommendationid': '174059061'}, page_content='too much cheaters and toxic players. they will find ways to make you either get banned. say abusing the greiving report or intentionally cross your fire while you engage enemy. even in premier matches there are cheaters! VAC doesnt seem to work well for'),\n",
       " Document(metadata={'game': 'cs2', 'language': 'english', 'recommendationid': '171783807'}, page_content=\"How bad can this game get, 25 years and I cannot even play a premier game without cheaters, how tf is this even allowed, valve you are a terrible company, get an anti cheat it's not hard you money chasing dogs\")]"
      ]
     },
     "execution_count": 94,
     "metadata": {},
     "output_type": "execute_result"
    }
   ],
   "source": [
    "chroma.similarity_search(ground_truth[0]['question'], k=5, filter={'game':ground_truth[0]['game']})"
   ]
  },
  {
   "cell_type": "code",
   "execution_count": 179,
   "id": "92cbac47-7f77-41d2-9b69-52dfec06860c",
   "metadata": {},
   "outputs": [
    {
     "name": "stderr",
     "output_type": "stream",
     "text": [
      "100%|█████████████████| 1500/1500 [00:25<00:00, 58.98it/s]\n"
     ]
    }
   ],
   "source": [
    "relevance_total = []\n",
    "\n",
    "for q in tqdm(ground_truth):\n",
    "    doc_id = q['id']\n",
    "    results = rag.search(q['question'], filter={'game': q['game']}, n_results=10)\n",
    "    relevance = [d.metadata['recommendationid'] == str(doc_id) for d in results]\n",
    "    relevance_total.append(relevance)"
   ]
  },
  {
   "cell_type": "code",
   "execution_count": 180,
   "id": "350af8b5-d0bf-475b-9488-e681b72a2a9e",
   "metadata": {},
   "outputs": [
    {
     "data": {
      "text/plain": [
       "(0.466, 0.28848999518999496)"
      ]
     },
     "execution_count": 180,
     "metadata": {},
     "output_type": "execute_result"
    }
   ],
   "source": [
    "hit_rate(relevance_total), mrr(relevance_total)"
   ]
  },
  {
   "cell_type": "code",
   "execution_count": null,
   "id": "7024b226-6cce-452d-a70c-a6538b9089a8",
   "metadata": {},
   "outputs": [],
   "source": []
  }
 ],
 "metadata": {
  "kernelspec": {
   "display_name": "Python 3 (ipykernel)",
   "language": "python",
   "name": "python3"
  },
  "language_info": {
   "codemirror_mode": {
    "name": "ipython",
    "version": 3
   },
   "file_extension": ".py",
   "mimetype": "text/x-python",
   "name": "python",
   "nbconvert_exporter": "python",
   "pygments_lexer": "ipython3",
   "version": "3.11.6"
  }
 },
 "nbformat": 4,
 "nbformat_minor": 5
}
