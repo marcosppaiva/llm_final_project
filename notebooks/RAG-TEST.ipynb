{
 "cells": [
  {
   "cell_type": "markdown",
   "id": "bea42ebc-9e3b-44f8-917c-506cd6953710",
   "metadata": {},
   "source": [
    "# Imports"
   ]
  },
  {
   "cell_type": "code",
   "execution_count": 1,
   "id": "256cee9a-0508-4de7-9e93-6b0ff24177ed",
   "metadata": {},
   "outputs": [
    {
     "data": {
      "text/plain": [
       "True"
      ]
     },
     "execution_count": 1,
     "metadata": {},
     "output_type": "execute_result"
    }
   ],
   "source": [
    "import pandas as pd\n",
    "import json\n",
    "import os\n",
    "import chromadb\n",
    "\n",
    "from chromadb.config import Settings\n",
    "\n",
    "from dotenv import load_dotenv\n",
    "from groq import Groq\n",
    "\n",
    "\n",
    "load_dotenv()"
   ]
  },
  {
   "cell_type": "markdown",
   "id": "82ed6ee1-cd00-4e7b-ab2b-ad03fce9e4d0",
   "metadata": {},
   "source": [
    "# Load Data"
   ]
  },
  {
   "cell_type": "code",
   "execution_count": 2,
   "id": "145e746c-a8c4-4240-9b57-72277710f61c",
   "metadata": {},
   "outputs": [],
   "source": [
    "df = pd.read_json('../data/processed/reviews.json', orient='records')"
   ]
  },
  {
   "cell_type": "code",
   "execution_count": 3,
   "id": "876413a0-7988-43e9-b301-24f5972121e0",
   "metadata": {},
   "outputs": [],
   "source": [
    "df['recommendationid'] = df['recommendationid'].astype(str)"
   ]
  },
  {
   "cell_type": "code",
   "execution_count": 4,
   "id": "7a1593e0-910e-496a-9c2b-8035a02f2aa0",
   "metadata": {},
   "outputs": [
    {
     "data": {
      "text/html": [
       "<div>\n",
       "<style scoped>\n",
       "    .dataframe tbody tr th:only-of-type {\n",
       "        vertical-align: middle;\n",
       "    }\n",
       "\n",
       "    .dataframe tbody tr th {\n",
       "        vertical-align: top;\n",
       "    }\n",
       "\n",
       "    .dataframe thead th {\n",
       "        text-align: right;\n",
       "    }\n",
       "</style>\n",
       "<table border=\"1\" class=\"dataframe\">\n",
       "  <thead>\n",
       "    <tr style=\"text-align: right;\">\n",
       "      <th></th>\n",
       "      <th>recommendationid</th>\n",
       "      <th>language</th>\n",
       "      <th>review</th>\n",
       "      <th>game</th>\n",
       "    </tr>\n",
       "  </thead>\n",
       "  <tbody>\n",
       "    <tr>\n",
       "      <th>0</th>\n",
       "      <td>172440169</td>\n",
       "      <td>english</td>\n",
       "      <td>terrible anti cheat people are getting false b...</td>\n",
       "      <td>cs2</td>\n",
       "    </tr>\n",
       "    <tr>\n",
       "      <th>1</th>\n",
       "      <td>171726642</td>\n",
       "      <td>english</td>\n",
       "      <td>this is the worst game I've ever played. It ma...</td>\n",
       "      <td>cs2</td>\n",
       "    </tr>\n",
       "    <tr>\n",
       "      <th>2</th>\n",
       "      <td>171674861</td>\n",
       "      <td>english</td>\n",
       "      <td>this game has caused me multiple brain injures...</td>\n",
       "      <td>cs2</td>\n",
       "    </tr>\n",
       "    <tr>\n",
       "      <th>3</th>\n",
       "      <td>172213464</td>\n",
       "      <td>english</td>\n",
       "      <td>Despite Counter Strike having a prestigious &amp; ...</td>\n",
       "      <td>cs2</td>\n",
       "    </tr>\n",
       "    <tr>\n",
       "      <th>4</th>\n",
       "      <td>172485882</td>\n",
       "      <td>english</td>\n",
       "      <td>By adding sexual content to this game it would...</td>\n",
       "      <td>cs2</td>\n",
       "    </tr>\n",
       "  </tbody>\n",
       "</table>\n",
       "</div>"
      ],
      "text/plain": [
       "  recommendationid language  \\\n",
       "0        172440169  english   \n",
       "1        171726642  english   \n",
       "2        171674861  english   \n",
       "3        172213464  english   \n",
       "4        172485882  english   \n",
       "\n",
       "                                              review game  \n",
       "0  terrible anti cheat people are getting false b...  cs2  \n",
       "1  this is the worst game I've ever played. It ma...  cs2  \n",
       "2  this game has caused me multiple brain injures...  cs2  \n",
       "3  Despite Counter Strike having a prestigious & ...  cs2  \n",
       "4  By adding sexual content to this game it would...  cs2  "
      ]
     },
     "execution_count": 4,
     "metadata": {},
     "output_type": "execute_result"
    }
   ],
   "source": [
    "df.head()"
   ]
  },
  {
   "cell_type": "code",
   "execution_count": 5,
   "id": "fa03bc0c-fd1e-4f8b-8be9-2546e0ff6f6c",
   "metadata": {},
   "outputs": [
    {
     "data": {
      "text/plain": [
       "array(['cs2', 'black_myth', 'dota2'], dtype=object)"
      ]
     },
     "execution_count": 5,
     "metadata": {},
     "output_type": "execute_result"
    }
   ],
   "source": [
    "df.game.unique()"
   ]
  },
  {
   "cell_type": "markdown",
   "id": "13e0380d-56d4-4dfb-9811-16b7bd54ce87",
   "metadata": {},
   "source": [
    "# ChromaDB"
   ]
  },
  {
   "cell_type": "code",
   "execution_count": 6,
   "id": "52be3a12-d17d-4c87-9384-c69d11b8c462",
   "metadata": {},
   "outputs": [],
   "source": [
    "settings = Settings(persist_directory='../chroma', is_persistent=True)"
   ]
  },
  {
   "cell_type": "code",
   "execution_count": 7,
   "id": "5f05e839-aa16-44eb-a683-5de49537ec3a",
   "metadata": {},
   "outputs": [],
   "source": [
    "client = chromadb.Client(settings)\n",
    "\n",
    "# Create collection. get_collection, get_or_create_collection, delete_collection also available!\n",
    "collection = client.create_collection(\"reviews\", metadata={\"hnsw:space\": \"cosine\"})\n",
    "\n"
   ]
  },
  {
   "cell_type": "code",
   "execution_count": 56,
   "id": "f79532b0-468a-47bd-8a21-16a6c046f176",
   "metadata": {},
   "outputs": [],
   "source": [
    "documents = df['review'].to_list()\n",
    "metadatas = df[['language', 'game']].to_dict(orient='records')\n",
    "ids = df['recommendationid'].to_list()\n",
    "\n"
   ]
  },
  {
   "cell_type": "code",
   "execution_count": 9,
   "id": "e99802b4-8b04-4c6a-bdb3-d2040bfef152",
   "metadata": {},
   "outputs": [],
   "source": [
    "collection.add(\n",
    "    documents=documents,\n",
    "    metadatas=metadatas,\n",
    "    ids=ids,\n",
    ")"
   ]
  },
  {
   "cell_type": "code",
   "execution_count": 10,
   "id": "a4a5354f-8b07-4249-b1af-a7640c66463a",
   "metadata": {},
   "outputs": [
    {
     "data": {
      "text/plain": [
       "300"
      ]
     },
     "execution_count": 10,
     "metadata": {},
     "output_type": "execute_result"
    }
   ],
   "source": [
    "collection.count()"
   ]
  },
  {
   "cell_type": "code",
   "execution_count": 11,
   "id": "f30566e8-1d2a-4f36-bdc7-0cacc36630eb",
   "metadata": {},
   "outputs": [],
   "source": [
    "results = collection.query(\n",
    "    query_texts=[\"Does the game have any unique features or mechanics?\"], # Chroma will embed this for you\n",
    "    n_results=2 # how many results to return\n",
    ")"
   ]
  },
  {
   "cell_type": "code",
   "execution_count": 12,
   "id": "a0afd3e0-2815-4cad-b0ee-7fed703387d6",
   "metadata": {},
   "outputs": [
    {
     "data": {
      "text/plain": [
       "[['A very difficult game, but it is also interesting because you will always have to learn in it, it is never the same!',\n",
       "  'The game itself is nothing unique, but its done so well that it feels like it is. I was having fun with the game right away, but really when i hit chapter 2 i was freaking hooked. Something about the lore, the story telling, the relatively deep RPG elements, the combat - it just feels so damn fun to play. Im half way through the game at the time of writing this review, but its just so much fun i had to add to the good vibes online for the game. \\n\\nTHAT being said, does it drive anyone else crazy that the game doesn\\'t have any terrain climbing mechanics? I know thats typical for a \"souls like\" game, but dude COME ON you are a Monkey king and you cant even climb a rock or a tree?!? - maybe in the sequel lol']]"
      ]
     },
     "execution_count": 12,
     "metadata": {},
     "output_type": "execute_result"
    }
   ],
   "source": [
    "results['documents']"
   ]
  },
  {
   "cell_type": "code",
   "execution_count": 22,
   "id": "a0667e86-0d7c-4e74-a5ff-d52a9f1f2a85",
   "metadata": {},
   "outputs": [],
   "source": [
    "results = collection.query(\n",
    "    query_texts=[\"Will I experience false bans for playing the game?\"],\n",
    "    n_results=3,\n",
    "    where={\"game\": \"cs2\"}\n",
    ")"
   ]
  },
  {
   "cell_type": "code",
   "execution_count": 23,
   "id": "6b9ce34c-8a04-4ddb-977c-b7b975dfeac1",
   "metadata": {},
   "outputs": [
    {
     "data": {
      "text/plain": [
       "[['floded with cheaters i played wingman w/ my homie ( he was cheating only after they did) and we got banned and met them 2 games in a row + valve doing nothing bout it and they are still spinning in matches while we are banned and my ranks will prob get reseted GR8 JOB VALVE F-ING PROUD OF YDOU',\n",
       "  \"How bad can this game get, 25 years and I cannot even play a premier game without cheaters, how tf is this even allowed, valve you are a terrible company, get an anti cheat it's not hard you money chasing dogs\",\n",
       "  \"too much cheaters and toxic players. they will find ways to make you either get banned. say abusing the greiving report or intentionally cross your fire while you engage enemy. even in premier matches there are cheaters! VAC doesnt seem to work well for some reason.. the weekly rewards also quite a joke... i don't think its worth it. i would rather pay for faceit subscription\"]]"
      ]
     },
     "execution_count": 23,
     "metadata": {},
     "output_type": "execute_result"
    }
   ],
   "source": [
    "results['documents']"
   ]
  },
  {
   "cell_type": "code",
   "execution_count": 14,
   "id": "ac000a47-1a4b-43dc-877a-3512ce31903b",
   "metadata": {},
   "outputs": [],
   "source": [
    "def search(query:str, game:str) -> list[str]:\n",
    "    results = collection.query(\n",
    "    query_texts=[query],\n",
    "    n_results=2,\n",
    "    where={\"game\": game}\n",
    ")\n",
    "    return results['documents']"
   ]
  },
  {
   "cell_type": "code",
   "execution_count": 15,
   "id": "57503c3d-822d-44ca-a8bc-6464468d52c7",
   "metadata": {},
   "outputs": [],
   "source": [
    "def llm(prompt: str) -> str:\n",
    "    client = Groq(\n",
    "            api_key=os.environ.get(\"GROQ_API_KEY\"),\n",
    "        )\n",
    "    \n",
    "    chat_completion = client.chat.completions.create(\n",
    "        messages=[\n",
    "            {\n",
    "                \"role\": \"user\",\n",
    "                \"content\": prompt ,\n",
    "            }\n",
    "        ],\n",
    "        model=\"llama3-8b-8192\",\n",
    "    )\n",
    "    \n",
    "    return chat_completion.choices[0].message.content"
   ]
  },
  {
   "cell_type": "code",
   "execution_count": 16,
   "id": "c4ee9f07-4e2a-4f03-b837-9aa8a1143efc",
   "metadata": {},
   "outputs": [],
   "source": [
    "prompt_template = \"\"\"You're a review assistant. Based on the CONTEXT provided, generate a relevant and informative response to the user's QUESTION. \n",
    "The answer must directly address the question asked, using the information available in the context of the review to provide a clear, useful and contextualized answer.\n",
    "\n",
    "QUESTION: {question}\n",
    "\n",
    "CONTEXT: \n",
    "{context}\n",
    "\n",
    "\"\"\".strip()\n"
   ]
  },
  {
   "cell_type": "code",
   "execution_count": 17,
   "id": "6a34277d-12e9-4ca1-8cfa-f4ee27c79488",
   "metadata": {},
   "outputs": [],
   "source": [
    "def rag(query: str, game: str, prompt_template: str) -> str:\n",
    "    search_result = search(query, game)\n",
    "\n",
    "    prompt = prompt_template.format(question=query, context = search_result)\n",
    "\n",
    "    answer = llm(prompt)\n",
    "\n",
    "    return answer"
   ]
  },
  {
   "cell_type": "code",
   "execution_count": 24,
   "id": "f76763b6-25ea-41c4-9658-6b9dfb29de61",
   "metadata": {},
   "outputs": [],
   "source": [
    "query = \"Will I experience false bans for playing the game?\"\n",
    "game = \"cs2\"\n",
    "\n",
    "answer = rag(query, game, prompt_template)"
   ]
  },
  {
   "cell_type": "code",
   "execution_count": 25,
   "id": "9d6de356-df4a-4a1f-b7c5-b971aa41f7f9",
   "metadata": {},
   "outputs": [
    {
     "name": "stdout",
     "output_type": "stream",
     "text": [
      "Based on the context provided, it seems that the user is expressing frustration and disappointment with the game's lack of effective anti-cheating measures, which has resulted in false bans and unfair treatment of non-cheating players.\n",
      "\n",
      "In response to your question, \"Will I experience false bans for playing the game?\", based on this context, it's likely that the user has had a negative experience with false bans, but it's difficult to generalize and predict whether you will experience the same issue. However, the user's testimonial suggests that the game has a significant problem with cheating, and Valve's inaction may contribute to a culture where cheating is tolerated or even rewarded.\n",
      "\n",
      "It's possible that the game's ban system may be flawed or overaggressive, leading to false bans for players who are not cheating. This issue may be particularly problematic for players who are playing with friends, as the user in the context is claiming that they were banned alongside their cheating friend.\n",
      "\n",
      "To minimize the risk of false bans, it's recommended that you play the game with caution and avoid situations that may raise suspicions of cheating, such as playing with a high number of kills or win streaks. However, it's also important to report any suspected cheating activity to Valve's support team to help ensure that the game's fairplay environment is maintained.\n",
      "\n",
      "Overall, while it's difficult to predict with certainty whether you will experience false bans, it's clear that the game has a significant issue with cheating and that Valve's response has been inadequate. As a result, it's essential to be proactive and report any suspicious activity you encounter.\n"
     ]
    }
   ],
   "source": [
    "print(answer)"
   ]
  },
  {
   "cell_type": "code",
   "execution_count": 26,
   "id": "ed8b490a-39dd-4ae9-a60e-48520a2a7847",
   "metadata": {},
   "outputs": [
    {
     "name": "stdout",
     "output_type": "stream",
     "text": [
      "Based on the provided context, it appears that the developers of Cs2 have been inconsistent in addressing the issue of false bans caused by high sensitivity and AMD drivers. The reviewer mentions that \"terrible anti-cheat people are getting false bans for high sensitivity/amd drivers/console commands while real cheaters are not getting banned\" which implies that the anti-cheat system is not accurately detecting cheats. This is a recurring problem that has not been adequately addressed by the developers.\n"
     ]
    }
   ],
   "source": [
    "query = \"Have Cs2\\'s developers been addressing false bans due to high sensitivity and AMD drivers?\"\n",
    "game = \"cs2\"\n",
    "\n",
    "answer = rag(query, game, prompt_template)\n",
    "print(answer)"
   ]
  },
  {
   "cell_type": "markdown",
   "id": "6173c8c7-84b5-4410-8883-f723649a34e0",
   "metadata": {},
   "source": [
    "# Chroma with Chunks"
   ]
  },
  {
   "cell_type": "code",
   "execution_count": 11,
   "id": "ccc8ff97-a9f3-4cb8-bfb1-1dd192e5c65e",
   "metadata": {},
   "outputs": [],
   "source": [
    "from langchain_text_splitters import RecursiveCharacterTextSplitter"
   ]
  },
  {
   "cell_type": "code",
   "execution_count": 12,
   "id": "0bf6126e-758f-463d-aef5-aac65e2e1163",
   "metadata": {},
   "outputs": [],
   "source": [
    "text_splitter = RecursiveCharacterTextSplitter(\n",
    "    # Set a really small chunk size, just to show.\n",
    "    chunk_size=100,\n",
    "    chunk_overlap=20,\n",
    "    length_function=len,\n",
    "    is_separator_regex=False,\n",
    ")"
   ]
  },
  {
   "cell_type": "code",
   "execution_count": 15,
   "id": "cd80e5cd-3256-4e83-9dab-14a745d84771",
   "metadata": {},
   "outputs": [
    {
     "name": "stdout",
     "output_type": "stream",
     "text": [
      "page_content='terrible anti cheat people are getting false bans for high sensitivity/amd drivers/console commands'\n",
      "page_content='commands while real cheaters are not getting banned'\n"
     ]
    }
   ],
   "source": [
    "texts = text_splitter.create_documents(df.review)\n",
    "print(texts[0])\n",
    "print(texts[1])"
   ]
  },
  {
   "cell_type": "code",
   "execution_count": 35,
   "id": "1dbf861c-c15f-4183-8450-b90a8885c007",
   "metadata": {},
   "outputs": [],
   "source": [
    "from langchain_community.document_loaders import DataFrameLoader\n",
    "\n",
    "from langchain_core.documents import Document\n",
    "\n",
    "from langchain_chroma import Chroma"
   ]
  },
  {
   "cell_type": "code",
   "execution_count": null,
   "id": "45b1913c-70a7-4aab-baa0-88080c95faea",
   "metadata": {},
   "outputs": [],
   "source": [
    "document_1 = Document(\n",
    "    page_content=\"I had chocalate chip pancakes and scrambled eggs for breakfast this morning.\",\n",
    "    metadata={\"source\": \"tweet\"},\n",
    "    id=1,\n",
    ")\n"
   ]
  },
  {
   "cell_type": "code",
   "execution_count": null,
   "id": "39c3a0a8-cc45-4080-af32-490b5148398c",
   "metadata": {},
   "outputs": [],
   "source": []
  },
  {
   "cell_type": "code",
   "execution_count": null,
   "id": "5ec1101f-d3fb-4577-8e81-72fbc575bf99",
   "metadata": {},
   "outputs": [],
   "source": []
  },
  {
   "cell_type": "code",
   "execution_count": 17,
   "id": "af153dd5-2540-47b0-84d9-4d2478cd09d2",
   "metadata": {},
   "outputs": [],
   "source": [
    "df_loader = DataFrameLoader(df, page_content_column='review')"
   ]
  },
  {
   "cell_type": "code",
   "execution_count": 43,
   "id": "a731d0fc-31fe-4db4-b117-4a714db2ba5b",
   "metadata": {},
   "outputs": [
    {
     "data": {
      "text/plain": [
       "Document(metadata={'recommendationid': '172440169', 'language': 'english', 'game': 'cs2'}, page_content=\"terrible anti cheat people are getting false bans for high sensitivity/amd drivers/console commands while real cheaters are not getting banned\\n- no new content for months\\n- no new operation (it's been 3+ years)\\n- tons of competitive/wingman/hostage maps missing from csgo\\n- deleted achievements from csgo with 1 pointless one just make new ones\\n- no danger zone\\n- no team deatmatch\\n- sub tick is garbage all we wanted was 128tick servers\\n- spaghetti net code\\n- no short mm\\n- no flying scoutsman\\n- replays are bugged\\n- no overwatch\\n- performance issues\\n- peekers advantage\\n- bad ranking system\\n- no economy changes despite MR12\\n- movement and shooting is worse compared to csgo\\n\\nAll of this while they make hundreds of millions of dollars from cases/keys and yet are unable to make any fun new content unbelievable, and yet they waste their time with boring hero shooter deadlock that they will abandon within the first few months after the release just like they did to TF2, LFD2, Dota Underlords, CS2 VALVE needs to wake up and start caring for their games\")"
      ]
     },
     "execution_count": 43,
     "metadata": {},
     "output_type": "execute_result"
    }
   ],
   "source": [
    "documents = df_loader.load()\n",
    "documents[0]"
   ]
  },
  {
   "cell_type": "code",
   "execution_count": 44,
   "id": "6a08ff91-dfa5-461f-9218-56e9952d6cd1",
   "metadata": {},
   "outputs": [],
   "source": [
    "docs = text_splitter.split_documents(documents)"
   ]
  },
  {
   "cell_type": "code",
   "execution_count": 47,
   "id": "608f7a2e-bfb8-49bc-8608-1063868de0b5",
   "metadata": {},
   "outputs": [
    {
     "name": "stdout",
     "output_type": "stream",
     "text": [
      "page_content='terrible anti cheat people are getting false bans for high sensitivity/amd drivers/console commands' metadata={'recommendationid': '172440169', 'language': 'english', 'game': 'cs2'}\n",
      "page_content='commands while real cheaters are not getting banned' metadata={'recommendationid': '172440169', 'language': 'english', 'game': 'cs2'}\n"
     ]
    }
   ],
   "source": [
    "print(docs[0])\n",
    "print(docs[1])"
   ]
  },
  {
   "cell_type": "code",
   "execution_count": null,
   "id": "11fa4e1c-195e-4e2f-8f95-ad02a0137d77",
   "metadata": {},
   "outputs": [],
   "source": [
    "page_content"
   ]
  },
  {
   "cell_type": "code",
   "execution_count": 66,
   "id": "5900f1e7-c723-4789-b92f-58b1ced4d1a7",
   "metadata": {},
   "outputs": [],
   "source": [
    "collection = client.get_or_create_collection(\"reviews_chunck\", metadata={\"hnsw:space\": \"cosine\"})"
   ]
  },
  {
   "cell_type": "code",
   "execution_count": 67,
   "id": "7cb0046b-338f-4df4-a3d0-a5bcee3b544f",
   "metadata": {},
   "outputs": [],
   "source": [
    "from uuid import uuid4\n",
    "\n",
    "uuids = [str(uuid4()) for _ in range(len(docs))]\n",
    "\n"
   ]
  },
  {
   "cell_type": "code",
   "execution_count": 68,
   "id": "5427708b-e57d-4558-ad73-8bea5e24f581",
   "metadata": {},
   "outputs": [],
   "source": [
    "texts = [doc.page_content for doc in docs]\n",
    "metadatas = [doc.metadata for doc in docs]"
   ]
  },
  {
   "cell_type": "code",
   "execution_count": 69,
   "id": "6ece0d36-d022-4bac-bfe2-3a1faff42d94",
   "metadata": {},
   "outputs": [
    {
     "name": "stdout",
     "output_type": "stream",
     "text": [
      "2972\n",
      "2972\n",
      "2972\n"
     ]
    }
   ],
   "source": [
    "print(len(texts))\n",
    "print(len(metadatas))\n",
    "print(len(uuids))"
   ]
  },
  {
   "cell_type": "code",
   "execution_count": 70,
   "id": "fa17ebfa-7d0c-4933-b01b-56bfe06fa0a5",
   "metadata": {},
   "outputs": [
    {
     "name": "stdout",
     "output_type": "stream",
     "text": [
      "terrible anti cheat people are getting false bans for high sensitivity/amd drivers/console commands\n",
      "{'recommendationid': '172440169', 'language': 'english', 'game': 'cs2'}\n",
      "2eeba8ab-3963-4c61-8ce5-52942842c96b\n",
      "commands while real cheaters are not getting banned\n",
      "{'recommendationid': '172440169', 'language': 'english', 'game': 'cs2'}\n",
      "df8e6d80-0c63-4b6a-a7b7-b365a1e03c55\n"
     ]
    }
   ],
   "source": [
    "print(texts[0])\n",
    "print(metadatas[0])\n",
    "print(uuids[0])\n",
    "\n",
    "print(texts[1])\n",
    "print(metadatas[1])\n",
    "print(uuids[1])"
   ]
  },
  {
   "cell_type": "code",
   "execution_count": 72,
   "id": "f512f834-88dc-477e-ba1e-35ec8e9439ef",
   "metadata": {},
   "outputs": [],
   "source": [
    "collection.add(\n",
    "    documents=texts,\n",
    "    metadatas=metadatas,\n",
    "    ids=uuids,\n",
    ")"
   ]
  },
  {
   "cell_type": "code",
   "execution_count": 73,
   "id": "6f7fb335-a982-47c8-90b5-6bbd6f00a47c",
   "metadata": {},
   "outputs": [
    {
     "data": {
      "text/plain": [
       "2972"
      ]
     },
     "execution_count": 73,
     "metadata": {},
     "output_type": "execute_result"
    }
   ],
   "source": [
    "collection.count()"
   ]
  },
  {
   "cell_type": "code",
   "execution_count": 74,
   "id": "9e681ce4-e195-43e0-9ff0-9d39c34f693f",
   "metadata": {},
   "outputs": [],
   "source": [
    "def search(query:str, game:str = None) -> list[str]:\n",
    "    results = collection.query(\n",
    "    query_texts=[query],\n",
    "    n_results=10,\n",
    "    # where={\"game\": game}\n",
    ")\n",
    "    return results"
   ]
  },
  {
   "cell_type": "code",
   "execution_count": 76,
   "id": "62dfc031-0089-447c-98eb-615758ea5b3a",
   "metadata": {},
   "outputs": [],
   "source": [
    "results = search('What are the chances of getting a false ban in this game?')"
   ]
  },
  {
   "cell_type": "code",
   "execution_count": 77,
   "id": "31f8b0b1-549b-48e5-8f31-454552482059",
   "metadata": {},
   "outputs": [
    {
     "data": {
      "text/plain": [
       "{'ids': [['3e88d6dc-b598-4808-89a6-8a22eec5400d',\n",
       "   '48f330b0-a347-406d-88cd-50ac424f381a',\n",
       "   '6602fd7a-d78f-44a3-9ba9-f644c8cd0b8b',\n",
       "   'a41cb42e-9365-40d4-a0d1-6311767e7806',\n",
       "   '3de3c433-3f80-4fd6-8786-4ee7d01adf8f',\n",
       "   '6101474a-21f0-4075-b2a2-ffd28d54360c',\n",
       "   'df8e6d80-0c63-4b6a-a7b7-b365a1e03c55',\n",
       "   '9bb0f549-43a9-4cb1-9b61-aecb6a53d4fc',\n",
       "   '2eeba8ab-3963-4c61-8ce5-52942842c96b',\n",
       "   '117b0a97-e075-43a7-bdc2-70a114d7d99c']],\n",
       " 'distances': [[0.44741660356521606,\n",
       "   0.4779500365257263,\n",
       "   0.4898596405982971,\n",
       "   0.5022164583206177,\n",
       "   0.5406852960586548,\n",
       "   0.5500341653823853,\n",
       "   0.5515846014022827,\n",
       "   0.573614239692688,\n",
       "   0.5768454670906067,\n",
       "   0.5787902474403381]],\n",
       " 'metadatas': [[{'game': 'dota2',\n",
       "    'language': 'english',\n",
       "    'recommendationid': '171924455'},\n",
       "   {'game': 'cs2', 'language': 'english', 'recommendationid': '174059061'},\n",
       "   {'game': 'dota2', 'language': 'english', 'recommendationid': '171924455'},\n",
       "   {'game': 'dota2', 'language': 'english', 'recommendationid': '171924455'},\n",
       "   {'game': 'cs2', 'language': 'english', 'recommendationid': '174023371'},\n",
       "   {'game': 'cs2', 'language': 'english', 'recommendationid': '174059061'},\n",
       "   {'game': 'cs2', 'language': 'english', 'recommendationid': '172440169'},\n",
       "   {'game': 'cs2', 'language': 'english', 'recommendationid': '174023371'},\n",
       "   {'game': 'cs2', 'language': 'english', 'recommendationid': '172440169'},\n",
       "   {'game': 'dota2', 'language': 'english', 'recommendationid': '171510111'}]],\n",
       " 'embeddings': None,\n",
       " 'documents': [['IF you get a lot of penalties, and or reports, you will be put in a HIDDEN SHADOWBAN matchmaking',\n",
       "   'too much cheaters and toxic players. they will find ways to make you either get banned. say abusing',\n",
       "   \"course Valve does not ban cheaters. If they did, they'd lose, what, 20 to 50 percent of customers\",\n",
       "   \"care about the players. At all. Another reason they don't ban cheaters, is because in Dota at\",\n",
       "   'getting banned, but completely innocent people are instead. Not to mention the fact that the higher',\n",
       "   'banned. say abusing the greiving report or intentionally cross your fire while you engage enemy.',\n",
       "   'commands while real cheaters are not getting banned',\n",
       "   'beginning of CS:GO [2012 btw!]). Because of this, not only are cheaters not getting banned, but',\n",
       "   'terrible anti cheat people are getting false bans for high sensitivity/amd drivers/console commands',\n",
       "   'class bans and you level up slightly faster.']],\n",
       " 'uris': None,\n",
       " 'data': None,\n",
       " 'included': ['metadatas', 'documents', 'distances']}"
      ]
     },
     "execution_count": 77,
     "metadata": {},
     "output_type": "execute_result"
    }
   ],
   "source": [
    "results"
   ]
  },
  {
   "cell_type": "code",
   "execution_count": null,
   "id": "cdb10ef9-9275-483e-95f0-4b1b77254f43",
   "metadata": {},
   "outputs": [],
   "source": []
  }
 ],
 "metadata": {
  "kernelspec": {
   "display_name": "Python 3 (ipykernel)",
   "language": "python",
   "name": "python3"
  },
  "language_info": {
   "codemirror_mode": {
    "name": "ipython",
    "version": 3
   },
   "file_extension": ".py",
   "mimetype": "text/x-python",
   "name": "python",
   "nbconvert_exporter": "python",
   "pygments_lexer": "ipython3",
   "version": "3.11.6"
  }
 },
 "nbformat": 4,
 "nbformat_minor": 5
}
