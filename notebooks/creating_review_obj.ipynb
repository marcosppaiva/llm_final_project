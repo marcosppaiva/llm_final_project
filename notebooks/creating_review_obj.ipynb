{
 "cells": [
  {
   "cell_type": "code",
   "execution_count": 1,
   "id": "8833ffa1-cc52-4520-9783-96bffba26a85",
   "metadata": {},
   "outputs": [
    {
     "data": {
      "text/plain": [
       "True"
      ]
     },
     "execution_count": 1,
     "metadata": {},
     "output_type": "execute_result"
    }
   ],
   "source": [
    "import os\n",
    "import sys\n",
    "sys.path.append('../src')\n",
    "\n",
    "from dotenv import load_dotenv\n",
    "from models import Review\n",
    "from db import DataBaseConnector\n",
    "from processing import SteamReviewsDownloader\n",
    "load_dotenv()"
   ]
  },
  {
   "cell_type": "code",
   "execution_count": 2,
   "id": "d5daf71c-239c-4878-b7ea-db876c37de29",
   "metadata": {},
   "outputs": [],
   "source": [
    "app_ids = {'cs2':730}\n",
    "downloader = SteamReviewsDownloader(app_ids)"
   ]
  },
  {
   "cell_type": "code",
   "execution_count": 3,
   "id": "aacb3814-3314-4392-806f-ebc71f1b8f39",
   "metadata": {},
   "outputs": [
    {
     "data": {
      "text/html": [
       "<pre style=\"white-space:pre;overflow-x:auto;line-height:normal;font-family:Menlo,'DejaVu Sans Mono',consolas,'Courier New',monospace\">20:51:15.598 | <span style=\"color: #008080; text-decoration-color: #008080\">INFO</span>    | prefect.engine - Created flow run<span style=\"color: #800080; text-decoration-color: #800080\"> 'humongous-bullfrog'</span> for flow<span style=\"color: #800080; text-decoration-color: #800080; font-weight: bold\"> 'run'</span>\n",
       "</pre>\n"
      ],
      "text/plain": [
       "20:51:15.598 | \u001b[36mINFO\u001b[0m    | prefect.engine - Created flow run\u001b[35m 'humongous-bullfrog'\u001b[0m for flow\u001b[1;35m 'run'\u001b[0m\n"
      ]
     },
     "metadata": {},
     "output_type": "display_data"
    },
    {
     "data": {
      "text/html": [
       "<pre style=\"white-space:pre;overflow-x:auto;line-height:normal;font-family:Menlo,'DejaVu Sans Mono',consolas,'Courier New',monospace\">20:51:15.599 | <span style=\"color: #008080; text-decoration-color: #008080\">INFO</span>    | prefect.engine - View at <span style=\"color: #0000ff; text-decoration-color: #0000ff\">http://127.0.0.1:4200/runs/flow-run/4a181d7c-b979-4ad2-8b04-aa7636743c31</span>\n",
       "</pre>\n"
      ],
      "text/plain": [
       "20:51:15.599 | \u001b[36mINFO\u001b[0m    | prefect.engine - View at \u001b[94mhttp://127.0.0.1:4200/runs/flow-run/4a181d7c-b979-4ad2-8b04-aa7636743c31\u001b[0m\n"
      ]
     },
     "metadata": {},
     "output_type": "display_data"
    },
    {
     "data": {
      "text/html": [
       "<pre style=\"white-space:pre;overflow-x:auto;line-height:normal;font-family:Menlo,'DejaVu Sans Mono',consolas,'Courier New',monospace\">20:51:15.637 | <span style=\"color: #008080; text-decoration-color: #008080\">INFO</span>    | Task run 'download_reviews-87b' - Created task run 'download_reviews-87b' for task 'download_reviews'\n",
       "</pre>\n"
      ],
      "text/plain": [
       "20:51:15.637 | \u001b[36mINFO\u001b[0m    | Task run 'download_reviews-87b' - Created task run 'download_reviews-87b' for task 'download_reviews'\n"
      ]
     },
     "metadata": {},
     "output_type": "display_data"
    },
    {
     "data": {
      "text/html": [
       "<pre style=\"white-space:pre;overflow-x:auto;line-height:normal;font-family:Menlo,'DejaVu Sans Mono',consolas,'Courier New',monospace\">20:51:15.684 | <span style=\"color: #008080; text-decoration-color: #008080\">INFO</span>    | Task run 'download_reviews-87b' - Finished in state Cached(type=COMPLETED)\n",
       "</pre>\n"
      ],
      "text/plain": [
       "20:51:15.684 | \u001b[36mINFO\u001b[0m    | Task run 'download_reviews-87b' - Finished in state Cached(type=COMPLETED)\n"
      ]
     },
     "metadata": {},
     "output_type": "display_data"
    },
    {
     "data": {
      "text/html": [
       "<pre style=\"white-space:pre;overflow-x:auto;line-height:normal;font-family:Menlo,'DejaVu Sans Mono',consolas,'Courier New',monospace\">20:51:15.717 | <span style=\"color: #008080; text-decoration-color: #008080\">INFO</span>    | Task run 'add_game_name-1a7' - Created task run 'add_game_name-1a7' for task 'add_game_name'\n",
       "</pre>\n"
      ],
      "text/plain": [
       "20:51:15.717 | \u001b[36mINFO\u001b[0m    | Task run 'add_game_name-1a7' - Created task run 'add_game_name-1a7' for task 'add_game_name'\n"
      ]
     },
     "metadata": {},
     "output_type": "display_data"
    },
    {
     "data": {
      "text/html": [
       "<pre style=\"white-space:pre;overflow-x:auto;line-height:normal;font-family:Menlo,'DejaVu Sans Mono',consolas,'Courier New',monospace\">20:51:15.762 | <span style=\"color: #008080; text-decoration-color: #008080\">INFO</span>    | Task run 'add_game_name-1a7' - Finished in state <span style=\"color: #008000; text-decoration-color: #008000\">Completed</span>()\n",
       "</pre>\n"
      ],
      "text/plain": [
       "20:51:15.762 | \u001b[36mINFO\u001b[0m    | Task run 'add_game_name-1a7' - Finished in state \u001b[32mCompleted\u001b[0m()\n"
      ]
     },
     "metadata": {},
     "output_type": "display_data"
    },
    {
     "data": {
      "text/html": [
       "<pre style=\"white-space:pre;overflow-x:auto;line-height:normal;font-family:Menlo,'DejaVu Sans Mono',consolas,'Courier New',monospace\">20:51:15.800 | <span style=\"color: #008080; text-decoration-color: #008080\">INFO</span>    | Flow run<span style=\"color: #800080; text-decoration-color: #800080\"> 'humongous-bullfrog'</span> - Finished in state <span style=\"color: #008000; text-decoration-color: #008000\">Completed</span>()\n",
       "</pre>\n"
      ],
      "text/plain": [
       "20:51:15.800 | \u001b[36mINFO\u001b[0m    | Flow run\u001b[35m 'humongous-bullfrog'\u001b[0m - Finished in state \u001b[32mCompleted\u001b[0m()\n"
      ]
     },
     "metadata": {},
     "output_type": "display_data"
    }
   ],
   "source": [
    "reviews = downloader.run()"
   ]
  },
  {
   "cell_type": "code",
   "execution_count": 4,
   "id": "15388aa1-2f51-4a0e-bf13-ba61e1b07f62",
   "metadata": {},
   "outputs": [
    {
     "data": {
      "text/plain": [
       "{'recommendationid': '172440169',\n",
       " 'author': {'steamid': '76561198893790695',\n",
       "  'num_games_owned': 0,\n",
       "  'num_reviews': 1,\n",
       "  'playtime_forever': 2862,\n",
       "  'playtime_last_two_weeks': 0,\n",
       "  'playtime_at_review': 2862,\n",
       "  'deck_playtime_at_review': 941,\n",
       "  'last_played': 1715537143},\n",
       " 'language': 'english',\n",
       " 'review': \"terrible anti cheat people are getting false bans for high sensitivity/amd drivers/console commands while real cheaters are not getting banned\\n- no new content for months\\n- no new operation (it's been 3+ years)\\n- tons of competitive/wingman/hostage maps missing from csgo\\n- deleted achievements from csgo with 1 pointless one just make new ones\\n- no danger zone\\n- no team deatmatch\\n- sub tick is garbage all we wanted was 128tick servers\\n- spaghetti net code\\n- no short mm\\n- no flying scoutsman\\n- replays are bugged\\n- no overwatch\\n- performance issues\\n- peekers advantage\\n- bad ranking system\\n- no economy changes despite MR12\\n- movement and shooting is worse compared to csgo\\n\\nAll of this while they make hundreds of millions of dollars from cases/keys and yet are unable to make any fun new content unbelievable, and yet they waste their time with boring hero shooter deadlock that they will abandon within the first few months after the release just like they did to TF2, LFD2, Dota Underlords, CS2 VALVE needs to wake up and start caring for their games\",\n",
       " 'timestamp_created': 1724050740,\n",
       " 'timestamp_updated': 1724305603,\n",
       " 'voted_up': False,\n",
       " 'votes_up': 427,\n",
       " 'votes_funny': 16,\n",
       " 'weighted_vote_score': '0.897711455821990967',\n",
       " 'comment_count': 0,\n",
       " 'steam_purchase': False,\n",
       " 'received_for_free': False,\n",
       " 'written_during_early_access': False,\n",
       " 'hidden_in_steam_china': True,\n",
       " 'steam_china_location': '',\n",
       " 'game': 'cs2'}"
      ]
     },
     "execution_count": 4,
     "metadata": {},
     "output_type": "execute_result"
    }
   ],
   "source": [
    "reviews[0]"
   ]
  },
  {
   "cell_type": "code",
   "execution_count": 5,
   "id": "19811bbc-a6eb-4e6f-875c-0b3e44cdd46f",
   "metadata": {},
   "outputs": [],
   "source": []
  },
  {
   "cell_type": "code",
   "execution_count": 6,
   "id": "3255ba8f-eaf4-4202-891f-29927c91b703",
   "metadata": {},
   "outputs": [
    {
     "data": {
      "text/plain": [
       "<Review(recommendationid=172440169, voted_up=terrible anti cheat people are getting false bans for high sensitivity/amd drivers/console commands while real cheaters are not getting banned\n",
       "- no new content for months\n",
       "- no new operation (it's been 3+ years)\n",
       "- tons of competitive/wingman/hostage maps missing from csgo\n",
       "- deleted achievements from csgo with 1 pointless one just make new ones\n",
       "- no danger zone\n",
       "- no team deatmatch\n",
       "- sub tick is garbage all we wanted was 128tick servers\n",
       "- spaghetti net code\n",
       "- no short mm\n",
       "- no flying scoutsman\n",
       "- replays are bugged\n",
       "- no overwatch\n",
       "- performance issues\n",
       "- peekers advantage\n",
       "- bad ranking system\n",
       "- no economy changes despite MR12\n",
       "- movement and shooting is worse compared to csgo\n",
       "\n",
       "All of this while they make hundreds of millions of dollars from cases/keys and yet are unable to make any fun new content unbelievable, and yet they waste their time with boring hero shooter deadlock that they will abandon within the first few months after the release just like they did to TF2, LFD2, Dota Underlords, CS2 VALVE needs to wake up and start caring for their games)>"
      ]
     },
     "execution_count": 6,
     "metadata": {},
     "output_type": "execute_result"
    }
   ],
   "source": [
    "all_reviews[0]"
   ]
  },
  {
   "cell_type": "code",
   "execution_count": 7,
   "id": "5d8b5131-a93a-420f-aada-d5487d091de0",
   "metadata": {},
   "outputs": [],
   "source": [
    "from sqlalchemy.dialects.postgresql import insert\n",
    "\n",
    "all_reviews = []\n",
    "for r in reviews:\n",
    "    del r['author']\n",
    "\n",
    "    all_reviews.append(Review(**r))\n",
    "\n",
    "db_config = {\n",
    "        \"db_type\": \"postgresql\",\n",
    "        'host':'localhost',\n",
    "        'port':5432,\n",
    "        'database':'game_assistant',\n",
    "        'user':'postgres',\n",
    "        'password':'postgres',\n",
    "    }\n",
    "db = DataBaseConnector(**db_config)\n",
    "\n",
    "\n",
    "with db.session_scope() as session:\n",
    "    try:\n",
    "        stmt = insert(Review).values(reviews)\n",
    "        stmt = stmt.on_conflict_do_update(\n",
    "            index_elements=['recommendationid'],\n",
    "            set_={c.key: c for c in stmt.excluded if c.key != 'recommendationid'}\n",
    "        )\n",
    "        result = session.execute(stmt)\n",
    "        saved_count = result.rowcount\n",
    "        print(saved_count)\n",
    "    except Exception as err:\n",
    "        print(err)\n",
    "        session.rollback()\n",
    "\n"
   ]
  },
  {
   "cell_type": "code",
   "execution_count": 8,
   "id": "b3f2b410-13db-4455-9001-42393c11934a",
   "metadata": {},
   "outputs": [],
   "source": []
  },
  {
   "cell_type": "code",
   "execution_count": 10,
   "id": "8bff5f7b-d94c-4bf2-a009-be519b4cacc4",
   "metadata": {},
   "outputs": [
    {
     "name": "stdout",
     "output_type": "stream",
     "text": [
      "100\n"
     ]
    }
   ],
   "source": []
  },
  {
   "cell_type": "code",
   "execution_count": null,
   "id": "cac2d130-74c2-4678-86b6-ad72896fef76",
   "metadata": {},
   "outputs": [],
   "source": []
  }
 ],
 "metadata": {
  "kernelspec": {
   "display_name": "Python 3 (ipykernel)",
   "language": "python",
   "name": "python3"
  },
  "language_info": {
   "codemirror_mode": {
    "name": "ipython",
    "version": 3
   },
   "file_extension": ".py",
   "mimetype": "text/x-python",
   "name": "python",
   "nbconvert_exporter": "python",
   "pygments_lexer": "ipython3",
   "version": "3.11.6"
  }
 },
 "nbformat": 4,
 "nbformat_minor": 5
}
